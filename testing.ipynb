{
 "cells": [
  {
   "cell_type": "code",
   "execution_count": null,
   "id": "107e7b89",
   "metadata": {},
   "outputs": [],
   "source": []
  },
  {
   "cell_type": "code",
   "execution_count": 1,
   "id": "09466180",
   "metadata": {},
   "outputs": [],
   "source": [
    "import numpy as np\n",
    "\n",
    "def divide_three_classes(img, n_classes=3):\n",
    "\tmulticlass = np.zeros((*img.shape,n_classes), dtype=np.float32)\n",
    "\t\n",
    "\tbody = np.where(img<0.4, 1., 0.)\n",
    "\tmarker = np.where((img<0.75)&(img>=0.4), 1., 0.)\n",
    "\twound = np.where(img >= 0.75, 1., 0.)\n",
    "\n",
    "\tmulticlass[:,:,0] = body\n",
    "\tmulticlass[:,:,1] = marker\n",
    "\tmulticlass[:,:,2] = wound\n",
    "\n",
    "\treturn multiclass"
   ]
  },
  {
   "cell_type": "code",
   "execution_count": 2,
   "id": "c3b766a7",
   "metadata": {},
   "outputs": [],
   "source": [
    "import cv2\n",
    "\n",
    "label_3 = cv2.imread('./test_data/20250605_000003.png', cv2.IMREAD_GRAYSCALE).astype(np.float32)/255."
   ]
  },
  {
   "cell_type": "code",
   "execution_count": null,
   "id": "3b642aac",
   "metadata": {},
   "outputs": [
    {
     "data": {
      "text/plain": [
       "False"
      ]
     },
     "execution_count": 12,
     "metadata": {},
     "output_type": "execute_result"
    }
   ],
   "source": []
  },
  {
   "cell_type": "code",
   "execution_count": null,
   "id": "d36de242",
   "metadata": {},
   "outputs": [],
   "source": []
  }
 ],
 "metadata": {
  "kernelspec": {
   "display_name": "base",
   "language": "python",
   "name": "python3"
  },
  "language_info": {
   "codemirror_mode": {
    "name": "ipython",
    "version": 3
   },
   "file_extension": ".py",
   "mimetype": "text/x-python",
   "name": "python",
   "nbconvert_exporter": "python",
   "pygments_lexer": "ipython3",
   "version": "3.12.7"
  }
 },
 "nbformat": 4,
 "nbformat_minor": 5
}
