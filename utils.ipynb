{
 "cells": [
  {
   "cell_type": "code",
   "execution_count": null,
   "id": "107e7b89",
   "metadata": {},
   "outputs": [],
   "source": []
  },
  {
   "cell_type": "code",
   "execution_count": 1,
   "id": "09466180",
   "metadata": {},
   "outputs": [],
   "source": [
    "import numpy as np\n",
    "\n",
    "def divide_three_classes(img, n_classes=3):\n",
    "\tmulticlass = np.zeros((*img.shape,n_classes), dtype=np.float32)\n",
    "\t\n",
    "\tbody = np.where(img<0.4, 1., 0.)\n",
    "\tmarker = np.where((img<0.75)&(img>=0.4), 1., 0.)\n",
    "\twound = np.where(img >= 0.75, 1., 0.)\n",
    "\n",
    "\tmulticlass[:,:,0] = body\n",
    "\tmulticlass[:,:,1] = marker\n",
    "\tmulticlass[:,:,2] = wound\n",
    "\n",
    "\treturn multiclass"
   ]
  },
  {
   "cell_type": "code",
   "execution_count": 2,
   "id": "c3b766a7",
   "metadata": {},
   "outputs": [],
   "source": [
    "import cv2\n",
    "\n",
    "label_3 = cv2.imread('./test_data/20250605_000003.png', cv2.IMREAD_GRAYSCALE).astype(np.float32)/255."
   ]
  },
  {
   "cell_type": "code",
   "execution_count": null,
   "id": "3b642aac",
   "metadata": {},
   "outputs": [
    {
     "data": {
      "text/plain": [
       "False"
      ]
     },
     "execution_count": 12,
     "metadata": {},
     "output_type": "execute_result"
    }
   ],
   "source": []
  },
  {
   "cell_type": "code",
   "execution_count": null,
   "id": "79124000",
   "metadata": {},
   "outputs": [],
   "source": []
  },
  {
   "cell_type": "code",
   "execution_count": null,
   "id": "212c918f",
   "metadata": {},
   "outputs": [],
   "source": []
  },
  {
   "cell_type": "code",
   "execution_count": null,
   "id": "c718a228",
   "metadata": {},
   "outputs": [],
   "source": []
  },
  {
   "cell_type": "markdown",
   "id": "454adcd9",
   "metadata": {},
   "source": [
    "## preparing real datasets for trainin"
   ]
  },
  {
   "cell_type": "code",
   "execution_count": 1,
   "id": "d36de242",
   "metadata": {},
   "outputs": [],
   "source": [
    "import os\n",
    "import random\n",
    "from glob import glob\n",
    "\n",
    "FOLDS_NUMER = 6\n",
    "IMGS_X_FOLDER = 909\n",
    "\n",
    "random.seed(346)\n",
    "\n",
    "list_imgs = glob('../data/segmented/*.png')\n",
    "random.shuffle(list_imgs)\n",
    "\n",
    "assert len(list_imgs)//FOLDS_NUMER > IMGS_X_FOLDER\n"
   ]
  },
  {
   "cell_type": "code",
   "execution_count": 11,
   "id": "7e33f3db",
   "metadata": {},
   "outputs": [
    {
     "data": {
      "text/html": [
       "<div>\n",
       "<style scoped>\n",
       "    .dataframe tbody tr th:only-of-type {\n",
       "        vertical-align: middle;\n",
       "    }\n",
       "\n",
       "    .dataframe tbody tr th {\n",
       "        vertical-align: top;\n",
       "    }\n",
       "\n",
       "    .dataframe thead th {\n",
       "        text-align: right;\n",
       "    }\n",
       "</style>\n",
       "<table border=\"1\" class=\"dataframe\">\n",
       "  <thead>\n",
       "    <tr style=\"text-align: right;\">\n",
       "      <th></th>\n",
       "      <th>file</th>\n",
       "      <th>folder</th>\n",
       "    </tr>\n",
       "  </thead>\n",
       "  <tbody>\n",
       "    <tr>\n",
       "      <th>0</th>\n",
       "      <td>../data/segmented/-M2Xp0A2psHObp6f7Iav.-M2XpBj...</td>\n",
       "      <td>0</td>\n",
       "    </tr>\n",
       "    <tr>\n",
       "      <th>1</th>\n",
       "      <td>../data/segmented/-NaQsMwhq2FAV8U5jYdh.-NaQtYF...</td>\n",
       "      <td>0</td>\n",
       "    </tr>\n",
       "    <tr>\n",
       "      <th>2</th>\n",
       "      <td>../data/segmented/-MN2hxShPEnW3ZwMc7YZ.-Ms4LJB...</td>\n",
       "      <td>0</td>\n",
       "    </tr>\n",
       "    <tr>\n",
       "      <th>3</th>\n",
       "      <td>../data/segmented/-Leujocx_cjh-Ci6MrBu.-Mkq3mZ...</td>\n",
       "      <td>0</td>\n",
       "    </tr>\n",
       "    <tr>\n",
       "      <th>4</th>\n",
       "      <td>../data/segmented/-MIOBNUgcr0MTphTegMf.-MIOBfY...</td>\n",
       "      <td>0</td>\n",
       "    </tr>\n",
       "    <tr>\n",
       "      <th>...</th>\n",
       "      <td>...</td>\n",
       "      <td>...</td>\n",
       "    </tr>\n",
       "    <tr>\n",
       "      <th>5449</th>\n",
       "      <td>../data/segmented/-NZz-yrFJIgMkrvvyU7k.-NZz054...</td>\n",
       "      <td>5</td>\n",
       "    </tr>\n",
       "    <tr>\n",
       "      <th>5450</th>\n",
       "      <td>../data/segmented/-LiwHS89iphwTuLVEkcv.-LiwHZm...</td>\n",
       "      <td>5</td>\n",
       "    </tr>\n",
       "    <tr>\n",
       "      <th>5451</th>\n",
       "      <td>../data/segmented/-MX_tivv7eIFmiM5It8l.-MX_trj...</td>\n",
       "      <td>5</td>\n",
       "    </tr>\n",
       "    <tr>\n",
       "      <th>5452</th>\n",
       "      <td>../data/segmented/-NKqt26V9R-mBxkxU81X.-NKrFM2...</td>\n",
       "      <td>5</td>\n",
       "    </tr>\n",
       "    <tr>\n",
       "      <th>5453</th>\n",
       "      <td>../data/segmented/-LrIRVq3IK3HG10yEBuK.-LrISdQ...</td>\n",
       "      <td>5</td>\n",
       "    </tr>\n",
       "  </tbody>\n",
       "</table>\n",
       "<p>5454 rows × 2 columns</p>\n",
       "</div>"
      ],
      "text/plain": [
       "                                                   file  folder\n",
       "0     ../data/segmented/-M2Xp0A2psHObp6f7Iav.-M2XpBj...       0\n",
       "1     ../data/segmented/-NaQsMwhq2FAV8U5jYdh.-NaQtYF...       0\n",
       "2     ../data/segmented/-MN2hxShPEnW3ZwMc7YZ.-Ms4LJB...       0\n",
       "3     ../data/segmented/-Leujocx_cjh-Ci6MrBu.-Mkq3mZ...       0\n",
       "4     ../data/segmented/-MIOBNUgcr0MTphTegMf.-MIOBfY...       0\n",
       "...                                                 ...     ...\n",
       "5449  ../data/segmented/-NZz-yrFJIgMkrvvyU7k.-NZz054...       5\n",
       "5450  ../data/segmented/-LiwHS89iphwTuLVEkcv.-LiwHZm...       5\n",
       "5451  ../data/segmented/-MX_tivv7eIFmiM5It8l.-MX_trj...       5\n",
       "5452  ../data/segmented/-NKqt26V9R-mBxkxU81X.-NKrFM2...       5\n",
       "5453  ../data/segmented/-LrIRVq3IK3HG10yEBuK.-LrISdQ...       5\n",
       "\n",
       "[5454 rows x 2 columns]"
      ]
     },
     "execution_count": 11,
     "metadata": {},
     "output_type": "execute_result"
    }
   ],
   "source": [
    "import pandas as pd\n",
    "\n",
    "data = pd.DataFrame({'file' : list_imgs[:IMGS_X_FOLDER], 'folder' : [0]*IMGS_X_FOLDER})\n",
    "\n",
    "for i in range(1,FOLDS_NUMER):\n",
    "  new_rows = pd.DataFrame({'file' : list_imgs[i*IMGS_X_FOLDER:(i+1)*IMGS_X_FOLDER], 'folder' : [i]*IMGS_X_FOLDER})\n",
    "  data = pd.concat([data,new_rows]).reset_index(drop=True)\n",
    "\n",
    "data"
   ]
  },
  {
   "cell_type": "code",
   "execution_count": 20,
   "id": "60cb12d1",
   "metadata": {},
   "outputs": [
    {
     "data": {
      "application/vnd.jupyter.widget-view+json": {
       "model_id": "d03110f2da764503a9e058955f209922",
       "version_major": 2,
       "version_minor": 0
      },
      "text/plain": [
       "  0%|          | 0/909 [00:00<?, ?it/s]"
      ]
     },
     "metadata": {},
     "output_type": "display_data"
    },
    {
     "data": {
      "application/vnd.jupyter.widget-view+json": {
       "model_id": "06665c304a8f4c439c1c233b0c71e9d1",
       "version_major": 2,
       "version_minor": 0
      },
      "text/plain": [
       "  0%|          | 0/909 [00:00<?, ?it/s]"
      ]
     },
     "metadata": {},
     "output_type": "display_data"
    },
    {
     "data": {
      "application/vnd.jupyter.widget-view+json": {
       "model_id": "2294de4510bb4db5acf6dc4829d6f5ba",
       "version_major": 2,
       "version_minor": 0
      },
      "text/plain": [
       "  0%|          | 0/909 [00:00<?, ?it/s]"
      ]
     },
     "metadata": {},
     "output_type": "display_data"
    },
    {
     "data": {
      "application/vnd.jupyter.widget-view+json": {
       "model_id": "b7aa4359eb55425f8c7a2cbb762f9466",
       "version_major": 2,
       "version_minor": 0
      },
      "text/plain": [
       "  0%|          | 0/909 [00:00<?, ?it/s]"
      ]
     },
     "metadata": {},
     "output_type": "display_data"
    },
    {
     "data": {
      "application/vnd.jupyter.widget-view+json": {
       "model_id": "2d11542226ca4da4b00d043851b14af3",
       "version_major": 2,
       "version_minor": 0
      },
      "text/plain": [
       "  0%|          | 0/909 [00:00<?, ?it/s]"
      ]
     },
     "metadata": {},
     "output_type": "display_data"
    },
    {
     "data": {
      "application/vnd.jupyter.widget-view+json": {
       "model_id": "0794a0b5647340aa86edf702f1e92960",
       "version_major": 2,
       "version_minor": 0
      },
      "text/plain": [
       "  0%|          | 0/909 [00:00<?, ?it/s]"
      ]
     },
     "metadata": {},
     "output_type": "display_data"
    }
   ],
   "source": [
    "import os\n",
    "import cv2\n",
    "\n",
    "import numpy as np\n",
    "from tqdm.auto import tqdm\n",
    "\n",
    "\n",
    "\n",
    "for i in range(FOLDS_NUMER):\n",
    "  saving_folder = f'./train_data_real{i}/'\n",
    "  os.makedirs(saving_folder, exist_ok=True)\n",
    "  saving_wound = saving_folder + 'wound/'\n",
    "  saving_sem_mask = saving_folder + 'semantic_masks/'\n",
    "  os.makedirs(saving_wound, exist_ok=True)\n",
    "  os.makedirs(saving_sem_mask, exist_ok=True)\n",
    "  \n",
    "  data_folder = '../data/segmented/'\n",
    "  wound_mask = '../data/masks/'\n",
    "  body_mask = '../data/body_mask/'\n",
    "  marker_mask = '../data/marker_mask/'\n",
    "\n",
    "  rows = (data['folder']==i)\n",
    "\n",
    "  for file in tqdm(data[rows]['file']):\n",
    "    f = file.split('/')[-1]\n",
    "    img = cv2.imread(data_folder+f)\n",
    "    wound = cv2.imread(wound_mask+f, cv2.IMREAD_GRAYSCALE)\n",
    "    body = cv2.imread(body_mask+f, cv2.IMREAD_GRAYSCALE)\n",
    "    if os.path.exists(marker_mask+f):\n",
    "      marker = cv2.imread(marker_mask+f, cv2.IMREAD_GRAYSCALE)\n",
    "    else:\n",
    "      marker = None\n",
    "\n",
    "    semantic = np.zeros_like(wound).astype(np.float32)\n",
    "    semantic = np.where(body!=0, np.ones_like(wound)*(1/3), semantic)\n",
    "    semantic = np.where(wound!=0, np.ones_like(wound), semantic)\n",
    "    if marker is not None:\n",
    "      semantic = np.where(marker!=0, np.ones_like(wound)*(2/3), semantic)\n",
    "\n",
    "    semantic = (semantic*255).astype(np.uint8)\n",
    "\n",
    "    cv2.imwrite(saving_sem_mask+f, semantic)\n",
    "    cv2.imwrite(saving_wound+f, img)\n",
    "\n",
    "\n",
    "\n",
    "\n",
    "\n",
    "\n"
   ]
  },
  {
   "cell_type": "code",
   "execution_count": null,
   "id": "b4784f68",
   "metadata": {},
   "outputs": [],
   "source": []
  },
  {
   "cell_type": "code",
   "execution_count": null,
   "id": "92be5800",
   "metadata": {},
   "outputs": [],
   "source": []
  }
 ],
 "metadata": {
  "kernelspec": {
   "display_name": "base",
   "language": "python",
   "name": "python3"
  },
  "language_info": {
   "codemirror_mode": {
    "name": "ipython",
    "version": 3
   },
   "file_extension": ".py",
   "mimetype": "text/x-python",
   "name": "python",
   "nbconvert_exporter": "python",
   "pygments_lexer": "ipython3",
   "version": "3.12.7"
  }
 },
 "nbformat": 4,
 "nbformat_minor": 5
}
